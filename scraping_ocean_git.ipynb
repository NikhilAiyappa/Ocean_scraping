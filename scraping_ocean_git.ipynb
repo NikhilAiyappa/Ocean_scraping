{
 "cells": [
  {
   "cell_type": "code",
   "execution_count": null,
   "id": "54cb9144",
   "metadata": {},
   "outputs": [],
   "source": []
  },
  {
   "cell_type": "markdown",
   "id": "c6a75d76",
   "metadata": {},
   "source": [
    "## Installing all packages required"
   ]
  },
  {
   "cell_type": "code",
   "execution_count": null,
   "id": "0a709c4e",
   "metadata": {},
   "outputs": [],
   "source": [
    "!pip install selenium"
   ]
  },
  {
   "cell_type": "code",
   "execution_count": null,
   "id": "07199000",
   "metadata": {},
   "outputs": [],
   "source": [
    "from selenium import webdriver\n",
    "import pandas as pd\n",
    "from os.path import dirname, join, realpath, getsize\n",
    "from selenium.webdriver.support.ui import Select\n",
    "import pickle\n",
    "from time import sleep\n",
    "from selenium.webdriver.common.by import By\n",
    "from lxml import html\n",
    "from selenium.webdriver.support import expected_conditions as EC\n",
    "from selenium.webdriver.support.ui import WebDriverWait \n",
    "import time\n",
    "from selenium.webdriver.support import expected_conditions as EC"
   ]
  },
  {
   "cell_type": "markdown",
   "id": "ff8b3b45",
   "metadata": {},
   "source": [
    "## Find the right version of webdriver for your compatible google chrome browser"
   ]
  },
  {
   "cell_type": "code",
   "execution_count": null,
   "id": "51045f00",
   "metadata": {},
   "outputs": [],
   "source": [
    "driver = webdriver.Chrome('D:/selenium driver/chromedriver')\n",
    "# '''Enter here the url of the website'''\n",
    "url = 'https://market.oceanprotocol.com/search?sort=created&sortOrder=desc&page=1'\n",
    "driver.get(url)"
   ]
  },
  {
   "cell_type": "markdown",
   "id": "09b8e97f",
   "metadata": {},
   "source": [
    "## Extract all Xpaths of thr elements you want to scrape and put them into variables here"
   ]
  },
  {
   "cell_type": "code",
   "execution_count": null,
   "id": "5d3757fd",
   "metadata": {},
   "outputs": [],
   "source": [
    "# Pool metrics \n",
    "pool_button_click = '/html/body/div[1]/div[1]/div[1]/main/div/div/article/div[2]/div/ul/li[2]'\n",
    "total_ocean_creator_owns = '/html/body/div[1]/div[1]/div[1]/main/div/div/article/div[2]/div/div/div[2]/div[3]/div/div[1]/div[1]/div/div'\n",
    "total_data_tokens_creator_owns = '/html/body/div[1]/div[1]/div[1]/main/div/div/article/div[2]/div/div/div[2]/div[3]/div/div[1]/div[2]/div/div'\n",
    "total_data_tokens_in_pool = '/html/body/div[1]/div[1]/div[1]/main/div/div/article/div[2]/div/div/div[2]/div[4]/div/div[1]/div[2]/div/div'\n",
    "swap_fee = '/html/body/div[1]/div[1]/div[1]/main/div/div/article/div[2]/div/div/div[2]/div[4]/div/div[2]/div[2]/div/div'\n",
    "total_shares_in_pool = '/html/body/div[1]/div[1]/div[1]/main/div/div/article/div[2]/div/div/div[2]/div[4]/div/div[2]/div[1]/div/div'\n",
    "total_ocean_in_pool = '/html/body/div[1]/div[1]/div[1]/main/div/div/article/div[2]/div/div/div[2]/div[4]/div/div[1]/div[1]/div/div'\n",
    "euro_price_of_pool_creator_shares = '/html/body/div[1]/div[1]/div[1]/main/div/div/article/div[2]/div/div/div[2]/div[3]/div/div[1]/span/strong'\n",
    "share_owned_by_creator = '/html/body/div[1]/div[1]/div[1]/main/div/div/article/div[2]/div/div/div[2]/div[3]/div/div[2]/div[2]/div/div'\n",
    "pool_creator_shares = '/html/body/div[1]/div[1]/div[1]/main/div/div/article/div[2]/div/div/div[2]/div[3]/div/div[2]/div[1]/div'"
   ]
  },
  {
   "cell_type": "code",
   "execution_count": null,
   "id": "68eea652",
   "metadata": {},
   "outputs": [],
   "source": [
    "#Overview metrics\n",
    "token_name = '/html/body/div[1]/div[1]/div[1]/main/div/div/div/span/span'\n",
    "Data_product_name = '/html/body/div[1]/div[1]/div[1]/main/div/header/h1'\n",
    "ocean_price_of_token = '/html/body/div[1]/div[1]/div[1]/main/div/div/article/div[2]/div/div/div[1]/aside/div/div[2]/div[1]/div'\n",
    "created_date = '/html/body/div[1]/div[1]/div[1]/main/div/div/article/div[1]/div/aside[1]/div/p/time'\n",
    "eu_price = '/html/body/div[1]/div[1]/div[1]/main/div/div/article/div[2]/div/div/div[1]/aside/div/div[2]/div[1]/span/strong'"
   ]
  },
  {
   "cell_type": "markdown",
   "id": "dd19ec14",
   "metadata": {},
   "source": [
    "## Create some helper functions to navigate through products that dont have all the info"
   ]
  },
  {
   "cell_type": "code",
   "execution_count": null,
   "id": "3e138b06",
   "metadata": {},
   "outputs": [],
   "source": [
    "def check_pool(j,i):\n",
    "    try:\n",
    "        driver.find_element_by_xpath(pool_button_click).click()\n",
    "        time.sleep(5)\n",
    "        data ['{}{}{}'.format(j,',',i)].append(driver.find_element_by_xpath(total_ocean_creator_owns).text)\n",
    "        time.sleep(5)\n",
    "        data ['{}{}{}'.format(j,',',i)].append(driver.find_element_by_xpath(total_data_tokens_creator_owns).text)\n",
    "        time.sleep(5)\n",
    "        data ['{}{}{}'.format(j,',',i)].append(driver.find_element_by_xpath(total_data_tokens_in_pool).text)\n",
    "        time.sleep(5)\n",
    "        data ['{}{}{}'.format(j,',',i)].append(driver.find_element_by_xpath(swap_fee).text)\n",
    "        time.sleep(5)\n",
    "        data ['{}{}{}'.format(j,',',i)].append(driver.find_element_by_xpath(total_shares_in_pool).text)\n",
    "        time.sleep(5)\n",
    "        data ['{}{}{}'.format(j,',',i)].append(driver.find_element_by_xpath(total_ocean_in_pool).text)\n",
    "        time.sleep(5)\n",
    "        data ['{}{}{}'.format(j,',',i)].append(driver.find_element_by_xpath(euro_price_of_pool_creator_shares).text)\n",
    "        time.sleep(5)\n",
    "        data ['{}{}{}'.format(j,',',i)].append(driver.find_element_by_xpath(share_owned_by_creator).text)\n",
    "        time.sleep(5)\n",
    "        data ['{}{}{}'.format(j,',',i)].append(driver.find_element_by_xpath(pool_creator_shares).text)\n",
    "        time.sleep(5)        \n",
    "    except:          \n",
    "        data ['{}{}{}'.format(j,',',i)].append('No Pool_data')\n",
    "        \n",
    "def check_eu_price(j,i):  \n",
    "    try:\n",
    "        data ['{}{}{}'.format(j,',',i)].append(driver.find_element_by_xpath(eu_price).text)              \n",
    "    except:    \n",
    "        data ['{}{}{}'.format(j,',',i)].append('no price')"
   ]
  },
  {
   "cell_type": "markdown",
   "id": "0dccc7db",
   "metadata": {},
   "source": [
    "## Actual body of the scraper "
   ]
  },
  {
   "cell_type": "code",
   "execution_count": null,
   "id": "72417eef",
   "metadata": {},
   "outputs": [],
   "source": [
    "driver.get('https://market.oceanprotocol.com/search?sort=created&sortOrder=desc&page=1')\n",
    "data= dict()\n",
    "k=3\n",
    "for j in range(1,27):\n",
    "    page_url = 'https://market.oceanprotocol.com/search?sort=created&sortOrder=desc&page={}'.format(j)\n",
    "    for i in range(1,22): \n",
    "        driver.get(page_url)\n",
    "        print (\"Product\",i,\"Page\",j)\n",
    "        time.sleep(5)\n",
    "        if (i>6 and i<=12):\n",
    "            driver.execute_script('scrollBy(0, 700)')\n",
    "        if (i>12 and i<14):\n",
    "            driver.execute_script('scrollBy(0, 1200)')\n",
    "        if (i>=14 and i<16):\n",
    "            driver.execute_script('scrollBy(0, 1300)')\n",
    "        if (i>=16 and i<18):\n",
    "            driver.execute_script('scrollBy(0, 1500)')    \n",
    "        if (i>=18):\n",
    "            driver.execute_script('scrollBy(0, 1800)')\n",
    "        time.sleep(5)    \n",
    "        driver.find_element_by_xpath('/html/body/div[1]/div[1]/div[1]/main/div/div[2]/div/article[{}]/a'.format(i)).click()\n",
    "        time.sleep(15)\n",
    "        \n",
    "        try:\n",
    "                   #(title,ocean price for token,eu_price,published_date)\n",
    "            data['{}{}{}'.format(j,',',i)] =[(driver.find_element_by_xpath(token_name).text,\n",
    "            driver.find_element_by_xpath(Data_product_name).text,\n",
    "            driver.find_element_by_xpath(ocean_price_of_token).text,\n",
    "            driver.find_element_by_xpath(created_date).get_attribute(\"datetime\")) ]\n",
    "            check_eu_price(j,i)                                   \n",
    "            check_pool(j,i)\n",
    "\n",
    "        except:\n",
    "            #(title,no,noprice)   \n",
    "            data ['{}{}{}'.format(j,',',i)] = [(driver.find_element_by_xpath(token_name).text,\n",
    "            driver.find_element_by_xpath(Data_product_name).text,'no price','no pool')]\n",
    "            print ('no pool')\n",
    "\n",
    "\n",
    "    driver.implicitly_wait(8)\n",
    "    driver.get(page_url)\n",
    "    time.sleep(2)\n",
    "    driver.execute_script(\"window.scrollTo(0, document.body.scrollHeight);\")\n",
    "    time.sleep(7)\n",
    "    driver.find_elements_by_xpath('/html/body/div[1]/div[1]/div[1]/main/div/div[2]/ul/li[{}]/a/svg'.format(k))[0].click()\n",
    "    time.sleep(3)   \n",
    "    k=k+1\n",
    "    time.sleep(6)"
   ]
  },
  {
   "cell_type": "markdown",
   "id": "16d08e55",
   "metadata": {},
   "source": [
    "## Data preprocessing and writing readable names for the elements collected "
   ]
  },
  {
   "cell_type": "code",
   "execution_count": null,
   "id": "22829234",
   "metadata": {},
   "outputs": [],
   "source": [
    "from copy import deepcopy\n",
    "pages =  deepcopy(data)\n",
    "df = pd.DataFrame([(k, *v) for k, v in pages.items()]) \n",
    "df.columns = ['name'] + [f'n{x}' for x in df.columns[1:]]\n",
    "#Then rename all the nX columns how i need it .\n",
    "df['platform_used'] = [i[0] for i in df['n1']]\n",
    "df['title'] = [i[1] for i in df['n1']]\n",
    "df['ocean_price'] = [i[2] for i in df['n1']]\n",
    "df['date'] = [i[3] for i in df['n1']]\n",
    "df=df.rename(columns={\"n2\": \"Euro_price\", \"n3\": \"Total_ocean_in_pool\",\n",
    "                      \"n4\": \"Data_tokens_of_pool_owner\", 'n5':'Total_data_tokens_in_pool',\n",
    "                      'n6':'Swap_fee','n7':'Total_pool_shares','n8':'total_ocean_in_pool',\n",
    "                      'n9':'Total_value_of_pool_euros','n10':'perc_pool_owned_by_creator',\n",
    "                      'n11':'toal_pool_shares_available'})"
   ]
  },
  {
   "cell_type": "markdown",
   "id": "5850c4d1",
   "metadata": {},
   "source": [
    "## Extract to csv for future use and storage"
   ]
  },
  {
   "cell_type": "code",
   "execution_count": null,
   "id": "94e495bd",
   "metadata": {},
   "outputs": [],
   "source": [
    "df.to_csv('Ocean_protocol_data.csv')"
   ]
  }
 ],
 "metadata": {
  "kernelspec": {
   "display_name": "Python 3",
   "language": "python",
   "name": "python3"
  },
  "language_info": {
   "codemirror_mode": {
    "name": "ipython",
    "version": 3
   },
   "file_extension": ".py",
   "mimetype": "text/x-python",
   "name": "python",
   "nbconvert_exporter": "python",
   "pygments_lexer": "ipython3",
   "version": "3.8.8"
  }
 },
 "nbformat": 4,
 "nbformat_minor": 5
}
